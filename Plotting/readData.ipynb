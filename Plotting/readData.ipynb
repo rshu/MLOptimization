{
 "nbformat": 4,
 "nbformat_minor": 2,
 "metadata": {
  "language_info": {
   "name": "python",
   "codemirror_mode": {
    "name": "ipython",
    "version": 3
   },
   "version": "3.7.7-final"
  },
  "orig_nbformat": 2,
  "file_extension": ".py",
  "mimetype": "text/x-python",
  "name": "python",
  "npconvert_exporter": "python",
  "pygments_lexer": "ipython3",
  "version": 3,
  "kernelspec": {
   "name": "python3",
   "language": "python",
   "display_name": "Python 3"
  },
  "pycharm": {
   "stem_cell": {
    "cell_type": "raw",
    "source": [],
    "metadata": {
     "collapsed": false
    }
   }
  }
 },
 "cells": [
  {
   "cell_type": "code",
   "execution_count": 1,
   "outputs": [],
   "source": [
    "import csv\n",
    "import sys\n",
    "filepath = './data/ch02-data.csv'"
   ],
   "metadata": {
    "collapsed": false,
    "pycharm": {
     "name": "#%%\n",
     "is_executing": false
    }
   }
  },
  {
   "cell_type": "code",
   "execution_count": 2,
   "outputs": [],
   "source": [
    "data = []\n",
    "try:\n",
    "    with open(filepath) as f:\n",
    "        csv_reader_object = csv.reader(f)\n",
    "        if csv.Sniffer().has_header:\n",
    "            header = next(csv_reader_object)\n",
    "        data = [row for row in csv_reader_object]\n",
    "except csv.Error as e:\n",
    "    print(\"Error reading CSV file at line %s : %s\" % (csv_reader_object.line_num, e))\n",
    "    sys.exit(-1)"
   ],
   "metadata": {
    "collapsed": false,
    "pycharm": {
     "name": "#%%\n",
     "is_executing": false
    }
   }
  },
  {
   "cell_type": "code",
   "execution_count": 3,
   "outputs": [
    {
     "name": "stdout",
     "text": [
      "['day', 'ammount']\n",
      "==========\n"
     ],
     "output_type": "stream"
    }
   ],
   "source": [
    "if header:\n",
    "    print(header)\n",
    "    print(\"==========\")"
   ],
   "metadata": {
    "collapsed": false,
    "pycharm": {
     "name": "#%%\n",
     "is_executing": false
    }
   }
  },
  {
   "cell_type": "code",
   "execution_count": 4,
   "outputs": [
    {
     "name": "stdout",
     "text": [
      "['2013-01-24', '323']\n",
      "['2013-01-25', '233']\n",
      "['2013-01-26', '433']\n",
      "['2013-01-27', '555']\n",
      "['2013-01-28', '123']\n",
      "['2013-01-29', '0']\n",
      "['2013-01-30', '221']\n"
     ],
     "output_type": "stream"
    }
   ],
   "source": [
    "for datarow in data:\n",
    "    print(datarow)"
   ],
   "metadata": {
    "collapsed": false,
    "pycharm": {
     "name": "#%%\n",
     "is_executing": false
    }
   }
  },
  {
   "cell_type": "code",
   "execution_count": 6,
   "outputs": [
    {
     "name": "stdout",
     "text": [
      "[['\"day\"' '\"ammount\"']\n",
      " ['2013-01-24' '323']\n",
      " ['2013-01-25' '233']\n",
      " ['2013-01-26' '433']\n",
      " ['2013-01-27' '555']\n",
      " ['2013-01-28' '123']\n",
      " ['2013-01-29' '0']\n",
      " ['2013-01-30' '221']]\n"
     ],
     "output_type": "stream"
    }
   ],
   "source": [
    "import numpy as np\n",
    "# loadtxt is used to read large csv file\n",
    "data = np.loadtxt('./data/ch02-data.csv', dtype= str, delimiter= ',')\n",
    "print(data)"
   ],
   "metadata": {
    "collapsed": false,
    "pycharm": {
     "name": "#%%\n",
     "is_executing": false
    }
   }
  }
 ]
}