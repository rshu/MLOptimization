{
 "nbformat": 4,
 "nbformat_minor": 2,
 "metadata": {
  "language_info": {
   "name": "python",
   "codemirror_mode": {
    "name": "ipython",
    "version": 3
   },
   "version": "3.7.7-final"
  },
  "orig_nbformat": 2,
  "file_extension": ".py",
  "mimetype": "text/x-python",
  "name": "python",
  "npconvert_exporter": "python",
  "pygments_lexer": "ipython3",
  "version": 3,
  "kernelspec": {
   "name": "python3",
   "language": "python",
   "display_name": "Python 3"
  }
 },
 "cells": [
  {
   "cell_type": "code",
   "execution_count": null,
   "outputs": [],
   "source": [
    "import csv\n",
    "import sys\n",
    "filepath = './data/ch02-data.csv'"
   ],
   "metadata": {
    "collapsed": false,
    "pycharm": {
     "name": "#%%\n"
    }
   }
  },
  {
   "cell_type": "code",
   "execution_count": null,
   "outputs": [],
   "source": [
    "data = []\n",
    "try:\n",
    "    with open(filepath) as f:\n",
    "        csv_reader_object = csv.reader(f)\n",
    "        if csv.Sniffer().has_header:\n",
    "            header = next(csv_reader_object)\n",
    "        data = [row for row in csv_reader_object]\n",
    "except csv.Error as e:\n",
    "    print(\"Error reading CSV file at line %s : %s\" % (csv_reader_object.line_num, e))\n",
    "    sys.exit(-1)"
   ],
   "metadata": {
    "collapsed": false,
    "pycharm": {
     "name": "#%%\n"
    }
   }
  },
  {
   "cell_type": "code",
   "execution_count": null,
   "outputs": [],
   "source": [
    "if header:\n",
    "    print(header)\n",
    "    print(\"==========\")"
   ],
   "metadata": {
    "collapsed": false,
    "pycharm": {
     "name": "#%%\n"
    }
   }
  },
  {
   "cell_type": "code",
   "execution_count": null,
   "outputs": [],
   "source": [
    "for datarow in data:\n",
    "    print(datarow)"
   ],
   "metadata": {
    "collapsed": false,
    "pycharm": {
     "name": "#%%\n"
    }
   }
  },
  {
   "cell_type": "code",
   "execution_count": null,
   "outputs": [],
   "source": [
    "import numpy as np\n",
    "# loadtxt is used to read large csv file\n",
    "data = np.loadtxt('./data/ch02-data.csv', dtype= str, delimiter= ',')\n",
    "print(data)"
   ],
   "metadata": {
    "collapsed": false,
    "pycharm": {
     "name": "#%%\n"
    }
   }
  },
  {
   "cell_type": "code",
   "execution_count": null,
   "outputs": [],
   "source": [
    "import xlrd\n",
    "from datetime import datetime\n",
    "from xlrd import open_workbook, xldate_as_tuple\n",
    "\n",
    "excel_file = './data/ch02-xlsxdata.xlsx'\n",
    "# return xlrd.book.Book instance\n",
    "wb = xlrd.open_workbook(filename = excel_file, on_demand=False)\n",
    "# return xlrd.sheet.Sheet instance\n",
    "ws = wb.sheet_by_name('Sheet1')"
   ],
   "metadata": {
    "collapsed": false,
    "pycharm": {
     "name": "#%%\n"
    }
   }
  },
  {
   "cell_type": "code",
   "execution_count": null,
   "outputs": [],
   "source": [
    "dataset = []\n",
    "\n",
    "for r in range(ws.nrows):\n",
    "    col = []\n",
    "    for c in range(ws.ncols):\n",
    "        cell = ws.cell(r, c)\n",
    "        if cell.ctype == xlrd.XL_CELL_DATE:\n",
    "            date_value = xldate_as_tuple(cell.value, wb.datemode) # issue here\n",
    "            col.append(datetime(*date_value))\n",
    "        else:\n",
    "            col.append(cell.value)\n",
    "    dataset.append(col)"
   ],
   "metadata": {
    "collapsed": false,
    "pycharm": {
     "name": "#%%\n"
    }
   }
  },
  {
   "cell_type": "code",
   "execution_count": null,
   "outputs": [],
   "source": [
    "from pprint import pprint\n",
    "pprint(dataset)"
   ],
   "metadata": {
    "collapsed": false,
    "pycharm": {
     "name": "#%%\n"
    }
   }
  },
  {
   "cell_type": "code",
   "execution_count": 5,
   "outputs": [],
   "source": [
    "import struct\n",
    "import string\n",
    "\n",
    "datafile = './data/ch02-fixed-width-1M.data'\n",
    "\n",
    "# define how to read each line\n",
    "# a string of nine character width, followed by a string width\n",
    "# of 14 characters and then again followed by a string of five characters\n",
    "mask = '9s14s5s' # include space"
   ],
   "metadata": {
    "collapsed": false,
    "pycharm": {
     "name": "#%%\n"
    }
   }
  },
  {
   "cell_type": "code",
   "execution_count": 7,
   "outputs": [
    {
     "name": "stdout",
     "output_type": "stream",
     "text": [
      "fields:  ['161322597', '0386544351896', '0042']\n",
      "fields:  ['296411327', '6945080785634', '2301']\n",
      "fields:  ['164726383', '4090941067228', '5553']\n",
      "fields:  ['575768002', '4862349192103', '5643']\n",
      "fields:  ['483535208', '6007251611732', '4649']\n",
      "fields:  ['050291308', '8263754667453', '9141']\n",
      "fields:  ['207152670', '3984356804116', '9532']\n",
      "fields:  ['427053180', '1466959270421', '5338']\n",
      "fields:  ['316700885', '9726131532544', '4920']\n"
     ]
    }
   ],
   "source": [
    "count = 1\n",
    "with open(datafile, 'r') as f:\n",
    "    for line in f:\n",
    "        fields = struct.unpack_from(mask, bytes(line,  'utf-8')) # for python 3, with encoding\n",
    "        if count < 10:\n",
    "            print('fields: ', [field.strip().decode() for field in fields])\n",
    "            count = count + 1\n",
    "        else:\n",
    "            break"
   ],
   "metadata": {
    "collapsed": false,
    "pycharm": {
     "name": "#%%\n"
    }
   }
  },
  {
   "cell_type": "code",
   "execution_count": 8,
   "outputs": [],
   "source": [
    "import csv\n",
    "\n",
    "filename = './data/ch02-data.tab'"
   ],
   "metadata": {
    "collapsed": false,
    "pycharm": {
     "name": "#%%\n"
    }
   }
  },
  {
   "cell_type": "code",
   "execution_count": 10,
   "outputs": [
    {
     "name": "stdout",
     "output_type": "stream",
     "text": [
      "['day   \"ammount\"']\n",
      "==========\n",
      "['2013-01-24  323']\n",
      "['2013-01-25  233']\n",
      "['2013-01-26  433']\n",
      "['2013-01-27  555']\n",
      "['2013-01-28  123']\n",
      "['2013-01-29    0']\n",
      "['2013-01-30  221']\n"
     ]
    }
   ],
   "source": [
    "data = []\n",
    "\n",
    "try:\n",
    "    with open(filename) as f:\n",
    "        reader = csv.reader(f, dialect=csv.excel_tab) # read tab-delimited files\n",
    "        header = next(reader)\n",
    "        data = [row for row in reader]\n",
    "except csv.Error as e:\n",
    "    print(\"Error reading csv file at line %s : %s\" % (reader.line_num, e))\n",
    "    sys.exit(-1)\n",
    "\n",
    "if header:\n",
    "    print(header)\n",
    "    print(\"==========\")\n",
    "\n",
    "for datarow in data:\n",
    "    print(datarow)"
   ],
   "metadata": {
    "collapsed": false,
    "pycharm": {
     "name": "#%%\n"
    }
   }
  },
  {
   "cell_type": "code",
   "execution_count": 11,
   "outputs": [
    {
     "name": "stdout",
     "output_type": "stream",
     "text": [
      "Diary:  ['\"day\"   \"ammount\"\\n']\n",
      "['\"day\"   \"ammount\"']\n",
      "Diary:  ['2013-01-24  323 \\n']\n",
      "['2013-01-24  323']\n",
      "Diary:  ['2013-01-25  233 \\n']\n",
      "['2013-01-25  233']\n",
      "Diary:  ['2013-01-26  433\\n']\n",
      "['2013-01-26  433']\n",
      "Diary:  ['2013-01-27  555\\n']\n",
      "['2013-01-27  555']\n",
      "Diary:  ['2013-01-28  123\\n']\n",
      "['2013-01-28  123']\n",
      "Diary:  ['    2013-01-29    0\\n']\n",
      "['2013-01-29    0']\n",
      "Diary:  ['2013-01-30  221\\n']\n",
      "['2013-01-30  221']\n"
     ]
    }
   ],
   "source": [
    "dirtyDatafile = '././data/ch02-data-dirty.tab'\n",
    "\n",
    "with open(dirtyDatafile) as f:\n",
    "    for line in f:\n",
    "        print(\"Diary: \", line.split('\\t'))\n",
    "        line = line.strip()\n",
    "        print(line.split('\\t'))"
   ],
   "metadata": {
    "collapsed": false,
    "pycharm": {
     "name": "#%%\n"
    }
   }
  },
  {
   "cell_type": "code",
   "execution_count": 3,
   "outputs": [
    {
     "name": "stdout",
     "output_type": "stream",
     "text": [
      "{'avatar_url': 'https://avatars3.githubusercontent.com/u/12035212?v=4',\n",
      " 'bio': \"It's Dangerous to Go Alone! Take This\",\n",
      " 'blog': 'https://rshu.github.io',\n",
      " 'company': 'North Carolina State University',\n",
      " 'created_at': '2015-04-20T14:35:36Z',\n",
      " 'email': None,\n",
      " 'events_url': 'https://api.github.com/users/rshu/events{/privacy}',\n",
      " 'followers': 17,\n",
      " 'followers_url': 'https://api.github.com/users/rshu/followers',\n",
      " 'following': 2,\n",
      " 'following_url': 'https://api.github.com/users/rshu/following{/other_user}',\n",
      " 'gists_url': 'https://api.github.com/users/rshu/gists{/gist_id}',\n",
      " 'gravatar_id': '',\n",
      " 'hireable': None,\n",
      " 'html_url': 'https://github.com/rshu',\n",
      " 'id': 12035212,\n",
      " 'location': 'Raleigh',\n",
      " 'login': 'rshu',\n",
      " 'name': 'Rui Shu',\n",
      " 'node_id': 'MDQ6VXNlcjEyMDM1MjEy',\n",
      " 'organizations_url': 'https://api.github.com/users/rshu/orgs',\n",
      " 'public_gists': 0,\n",
      " 'public_repos': 43,\n",
      " 'received_events_url': 'https://api.github.com/users/rshu/received_events',\n",
      " 'repos_url': 'https://api.github.com/users/rshu/repos',\n",
      " 'site_admin': False,\n",
      " 'starred_url': 'https://api.github.com/users/rshu/starred{/owner}{/repo}',\n",
      " 'subscriptions_url': 'https://api.github.com/users/rshu/subscriptions',\n",
      " 'type': 'User',\n",
      " 'updated_at': '2020-04-15T01:05:48Z',\n",
      " 'url': 'https://api.github.com/users/rshu'}\n"
     ]
    }
   ],
   "source": [
    "######## parse a json file\n",
    "import requests\n",
    "from pprint import pprint\n",
    "\n",
    "url = 'https://api.github.com/users/rshu'\n",
    "r = requests.get(url)\n",
    "json_obj = r.json()\n",
    "pprint(json_obj)"
   ],
   "metadata": {
    "collapsed": false,
    "pycharm": {
     "name": "#%%\n"
    }
   }
  },
  {
   "cell_type": "code",
   "execution_count": 4,
   "outputs": [
    {
     "name": "stdout",
     "output_type": "stream",
     "text": [
      "{'name': 'prod1', 'price': Decimal('12.50')}\n"
     ]
    }
   ],
   "source": [
    "import json\n",
    "jstring = '{\"name\": \"prod1\", \"price\":12.50}'\n",
    "\n",
    "from decimal import Decimal\n",
    "j_obj = json.loads(jstring, parse_float=Decimal)\n",
    "pprint(j_obj)"
   ],
   "metadata": {
    "collapsed": false,
    "pycharm": {
     "name": "#%%\n"
    }
   }
  },
  {
   "cell_type": "code",
   "execution_count": null,
   "outputs": [],
   "source": [
    "\n"
   ],
   "metadata": {
    "collapsed": false,
    "pycharm": {
     "name": "#%%\n"
    }
   }
  }
 ]
}