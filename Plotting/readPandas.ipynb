{
 "cells": [
  {
   "cell_type": "code",
   "execution_count": 1,
   "metadata": {
    "collapsed": true
   },
   "outputs": [],
   "source": [
    "import pandas as pd\n",
    "\n",
    "data = pd.read_csv('./data/ch02-data.csv')\n",
    "data['amount_x_2'] = data['ammount'] * 2\n",
    "data.to_csv('./data/ch02-data_more.csv')"
   ]
  },
  {
   "cell_type": "code",
   "execution_count": 2,
   "outputs": [
    {
     "name": "stdout",
     "output_type": "stream",
     "text": [
      "0    323\n",
      "1    233\n",
      "2    433\n",
      "3    555\n",
      "4    123\n",
      "5      0\n",
      "6    221\n",
      "Name: ammount, dtype: int64\n"
     ]
    }
   ],
   "source": [
    "# print a specific column\n",
    "print(data.ammount)"
   ],
   "metadata": {
    "collapsed": false,
    "pycharm": {
     "name": "#%%\n"
    }
   }
  },
  {
   "cell_type": "code",
   "execution_count": 3,
   "outputs": [
    {
     "name": "stdout",
     "output_type": "stream",
     "text": [
      "Index(['day', 'ammount', 'amount_x_2'], dtype='object')\n"
     ]
    }
   ],
   "source": [
    "# print the name of all columns\n",
    "print(data.columns)\n"
   ],
   "metadata": {
    "collapsed": false,
    "pycharm": {
     "name": "#%%\n"
    }
   }
  },
  {
   "cell_type": "code",
   "execution_count": 12,
   "outputs": [
    {
     "data": {
      "text/plain": "          day  ammount\n0  2013-01-24    323.0\n1  2013-01-25    233.0\n2  2013-01-26    433.0\n3  2013-01-27    555.0\n4  2013-01-28    123.0\n5  2013-01-29      NaN\n6  2013-01-30    221.0",
      "text/html": "<div>\n<style scoped>\n    .dataframe tbody tr th:only-of-type {\n        vertical-align: middle;\n    }\n\n    .dataframe tbody tr th {\n        vertical-align: top;\n    }\n\n    .dataframe thead th {\n        text-align: right;\n    }\n</style>\n<table border=\"1\" class=\"dataframe\">\n  <thead>\n    <tr style=\"text-align: right;\">\n      <th></th>\n      <th>day</th>\n      <th>ammount</th>\n    </tr>\n  </thead>\n  <tbody>\n    <tr>\n      <td>0</td>\n      <td>2013-01-24</td>\n      <td>323.0</td>\n    </tr>\n    <tr>\n      <td>1</td>\n      <td>2013-01-25</td>\n      <td>233.0</td>\n    </tr>\n    <tr>\n      <td>2</td>\n      <td>2013-01-26</td>\n      <td>433.0</td>\n    </tr>\n    <tr>\n      <td>3</td>\n      <td>2013-01-27</td>\n      <td>555.0</td>\n    </tr>\n    <tr>\n      <td>4</td>\n      <td>2013-01-28</td>\n      <td>123.0</td>\n    </tr>\n    <tr>\n      <td>5</td>\n      <td>2013-01-29</td>\n      <td>NaN</td>\n    </tr>\n    <tr>\n      <td>6</td>\n      <td>2013-01-30</td>\n      <td>221.0</td>\n    </tr>\n  </tbody>\n</table>\n</div>"
     },
     "execution_count": 12,
     "metadata": {},
     "output_type": "execute_result"
    }
   ],
   "source": [
    "df = pd.read_csv('./data/ch02-data.tab', skiprows=1, delimiter=' ', names = ['day', 'ammount'], index_col=1)\n",
    "df = df.reset_index(drop=True)\n",
    "df\n"
   ],
   "metadata": {
    "collapsed": false,
    "pycharm": {
     "name": "#%%\n"
    }
   }
  }
 ],
 "metadata": {
  "kernelspec": {
   "display_name": "Python 3",
   "language": "python",
   "name": "python3"
  },
  "language_info": {
   "codemirror_mode": {
    "name": "ipython",
    "version": 2
   },
   "file_extension": ".py",
   "mimetype": "text/x-python",
   "name": "python",
   "nbconvert_exporter": "python",
   "pygments_lexer": "ipython2",
   "version": "2.7.6"
  }
 },
 "nbformat": 4,
 "nbformat_minor": 0
}