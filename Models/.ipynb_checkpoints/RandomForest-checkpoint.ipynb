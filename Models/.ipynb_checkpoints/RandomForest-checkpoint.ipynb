{
 "cells": [
  {
   "cell_type": "code",
   "execution_count": 1,
   "metadata": {},
   "outputs": [
    {
     "name": "stderr",
     "output_type": "stream",
     "text": [
      "C:\\ProgramData\\Anaconda3\\lib\\site-packages\\sklearn\\ensemble\\weight_boosting.py:29: DeprecationWarning: numpy.core.umath_tests is an internal NumPy module and should not be imported. It will be removed in a future NumPy release.\n",
      "  from numpy.core.umath_tests import inner1d\n"
     ]
    }
   ],
   "source": [
    "import pandas as pd\n",
    "import numpy as np\n",
    "from sklearn.model_selection import train_test_split\n",
    "from sklearn.ensemble import RandomForestClassifier\n",
    "from sklearn.metrics import accuracy_score\n",
    "from sklearn.metrics import confusion_matrix"
   ]
  },
  {
   "cell_type": "code",
   "execution_count": null,
   "metadata": {},
   "outputs": [],
   "source": [
    "INPUT_PATH = \"../data/breast-cancer-wisconsin.data\"\n",
    "OUTPUT_PATH = \"../data/breast-cancer-wisconsin.csv\""
   ]
  },
  {
   "cell_type": "code",
   "execution_count": 2,
   "metadata": {},
   "outputs": [],
   "source": [
    "HEADERS = [\"CodeNumber\", \"ClumpThickness\", \"UniformityCellSize\", \"UniformityCellShape\", \"MarginalAdhesion\",\n",
    "           \"SingleEpithelialCellSize\", \"BareNuclei\", \"BlandChromatin\", \"NormalNucleoli\", \"Mitoses\", \"CancerType\"]"
   ]
  },
  {
   "cell_type": "code",
   "execution_count": null,
   "metadata": {},
   "outputs": [],
   "source": [
    "def read_data(path):\n",
    "    \"\"\"\n",
    "    Read the data into pandas dataframe\n",
    "    :param path:\n",
    "    :return:\n",
    "    \"\"\"\n",
    "    data = pd.read_csv(path)\n",
    "    return data"
   ]
  },
  {
   "cell_type": "code",
   "execution_count": 1,
   "metadata": {},
   "outputs": [],
   "source": [
    "def get_headers(dataset):\n",
    "    \"\"\"\n",
    "    dataset headers\n",
    "    :param dataset:\n",
    "    :return:\n",
    "    \"\"\"\n",
    "    return dataset.columns.values"
   ]
  },
  {
   "cell_type": "code",
   "execution_count": 2,
   "metadata": {},
   "outputs": [],
   "source": [
    "def add_headers(dataset, headers):\n",
    "    \"\"\"\n",
    "    Add the headers to the dataset\n",
    "    :param dataset:\n",
    "    :param headers:\n",
    "    :return:\n",
    "    \"\"\"\n",
    "    dataset.columns = headers\n",
    "    return dataset"
   ]
  },
  {
   "cell_type": "code",
   "execution_count": 3,
   "metadata": {},
   "outputs": [
    {
     "ename": "SyntaxError",
     "evalue": "Missing parentheses in call to 'print'. Did you mean print(\"File saved ...!\")? (<ipython-input-3-80fe58910c03>, line 17)",
     "output_type": "error",
     "traceback": [
      "\u001b[1;36m  File \u001b[1;32m\"<ipython-input-3-80fe58910c03>\"\u001b[1;36m, line \u001b[1;32m17\u001b[0m\n\u001b[1;33m    print \"File saved ...!\"\u001b[0m\n\u001b[1;37m                          ^\u001b[0m\n\u001b[1;31mSyntaxError\u001b[0m\u001b[1;31m:\u001b[0m Missing parentheses in call to 'print'. Did you mean print(\"File saved ...!\")?\n"
     ]
    }
   ],
   "source": [
    "def data_file_to_csv():\n",
    "    \"\"\"\n",
    " \n",
    "    :return:\n",
    "    \"\"\"\n",
    " \n",
    "    # Headers\n",
    "    headers = [\"CodeNumber\", \"ClumpThickness\", \"UniformityCellSize\", \"UniformityCellShape\", \"MarginalAdhesion\",\n",
    "               \"SingleEpithelialCellSize\", \"BareNuclei\", \"BlandChromatin\", \"NormalNucleoli\", \"Mitoses\",\n",
    "               \"CancerType\"]\n",
    "    # Load the dataset into Pandas data frame\n",
    "    dataset = read_data(INPUT_PATH)\n",
    "    # Add the headers to the loaded dataset\n",
    "    dataset = add_headers(dataset, headers)\n",
    "    # Save the loaded dataset into csv format\n",
    "    dataset.to_csv(OUTPUT_PATH, index=False)\n",
    "    print \"File saved ...!\""
   ]
  },
  {
   "cell_type": "code",
   "execution_count": 4,
   "metadata": {},
   "outputs": [],
   "source": [
    "def split_dataset(dataset, train_percentage, feature_headers, target_header):\n",
    "    \"\"\"\n",
    "    Split the dataset with train_percentage\n",
    "    :param dataset:\n",
    "    :param train_percentage:\n",
    "    :param feature_headers:\n",
    "    :param target_header:\n",
    "    :return: train_x, test_x, train_y, test_y\n",
    "    \"\"\"\n",
    " \n",
    "    # Split dataset into train and test dataset\n",
    "    train_x, test_x, train_y, test_y = train_test_split(dataset[feature_headers], dataset[target_header],\n",
    "                                                        train_size=train_percentage)\n",
    "    return train_x, test_x, train_y, test_y\n",
    " "
   ]
  },
  {
   "cell_type": "code",
   "execution_count": 5,
   "metadata": {},
   "outputs": [],
   "source": [
    "def handel_missing_values(dataset, missing_values_header, missing_label):\n",
    "    \"\"\"\n",
    "    Filter missing values from the dataset\n",
    "    :param dataset:\n",
    "    :param missing_values_header:\n",
    "    :param missing_label:\n",
    "    :return:\n",
    "    \"\"\"\n",
    " \n",
    "    return dataset[dataset[missing_values_header] != missing_label]"
   ]
  },
  {
   "cell_type": "code",
   "execution_count": 6,
   "metadata": {},
   "outputs": [],
   "source": [
    "def random_forest_classifier(features, target):\n",
    "    \"\"\"\n",
    "    To train the random forest classifier with features and target data\n",
    "    :param features:\n",
    "    :param target:\n",
    "    :return: trained random forest classifier\n",
    "    \"\"\"\n",
    "    clf = RandomForestClassifier()\n",
    "    clf.fit(features, target)\n",
    "    return clf"
   ]
  },
  {
   "cell_type": "code",
   "execution_count": 7,
   "metadata": {
    "scrolled": true
   },
   "outputs": [
    {
     "ename": "SyntaxError",
     "evalue": "invalid syntax (<ipython-input-7-7254d73bd8ec>, line 7)",
     "output_type": "error",
     "traceback": [
      "\u001b[1;36m  File \u001b[1;32m\"<ipython-input-7-7254d73bd8ec>\"\u001b[1;36m, line \u001b[1;32m7\u001b[0m\n\u001b[1;33m    print dataset.describe()\u001b[0m\n\u001b[1;37m                ^\u001b[0m\n\u001b[1;31mSyntaxError\u001b[0m\u001b[1;31m:\u001b[0m invalid syntax\n"
     ]
    }
   ],
   "source": [
    "def dataset_statistics(dataset):\n",
    "    \"\"\"\n",
    "    Basic statistics of the dataset\n",
    "    :param dataset: Pandas dataframe\n",
    "    :return: None, print the basic statistics of the dataset\n",
    "    \"\"\"\n",
    "    print(dataset.describe())"
   ]
  },
  {
   "cell_type": "code",
   "execution_count": null,
   "metadata": {},
   "outputs": [],
   "source": []
  }
 ],
 "metadata": {
  "kernelspec": {
   "display_name": "Python 3",
   "language": "python",
   "name": "python3"
  },
  "language_info": {
   "codemirror_mode": {
    "name": "ipython",
    "version": 3
   },
   "file_extension": ".py",
   "mimetype": "text/x-python",
   "name": "python",
   "nbconvert_exporter": "python",
   "pygments_lexer": "ipython3",
   "version": "3.7.0"
  }
 },
 "nbformat": 4,
 "nbformat_minor": 2
}
