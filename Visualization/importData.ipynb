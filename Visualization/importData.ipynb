{
 "cells": [
  {
   "cell_type": "code",
   "execution_count": 1,
   "metadata": {},
   "outputs": [],
   "source": [
    "import csv"
   ]
  },
  {
   "cell_type": "code",
   "execution_count": 2,
   "metadata": {},
   "outputs": [],
   "source": [
    "filename = r'./data/ch02-data.csv'"
   ]
  },
  {
   "cell_type": "code",
   "execution_count": 3,
   "metadata": {},
   "outputs": [],
   "source": [
    "data = []"
   ]
  },
  {
   "cell_type": "code",
   "execution_count": 4,
   "metadata": {},
   "outputs": [],
   "source": [
    "try:\n",
    "    with open(filename) as f:\n",
    "        reader = csv.reader(f)\n",
    "        header = next(reader) # reader.next() for python2\n",
    "        data = [row for row in reader]\n",
    "except csv.Error as e:\n",
    "    print(\"Error reading CSV file at line %s: %s\" (reader.line_num, e))\n",
    "    system.exit(-1)"
   ]
  },
  {
   "cell_type": "code",
   "execution_count": 5,
   "metadata": {},
   "outputs": [
    {
     "name": "stdout",
     "output_type": "stream",
     "text": [
      "['day', 'ammount']\n",
      "==========\n"
     ]
    }
   ],
   "source": [
    "if header:\n",
    "    print(header)\n",
    "    print('==========')"
   ]
  },
  {
   "cell_type": "code",
   "execution_count": 6,
   "metadata": {},
   "outputs": [
    {
     "name": "stdout",
     "output_type": "stream",
     "text": [
      "['2013-01-24', '323']\n",
      "['2013-01-25', '233']\n",
      "['2013-01-26', '433']\n",
      "['2013-01-27', '555']\n",
      "['2013-01-28', '123']\n",
      "['2013-01-29', '0']\n",
      "['2013-01-30', '221']\n"
     ]
    }
   ],
   "source": [
    "for datarow in data:\n",
    "    print(datarow)"
   ]
  },
  {
   "cell_type": "code",
   "execution_count": 7,
   "metadata": {},
   "outputs": [],
   "source": [
    "import numpy as np"
   ]
  },
  {
   "cell_type": "code",
   "execution_count": 8,
   "metadata": {},
   "outputs": [],
   "source": [
    "data = np.loadtxt(r'./data/ch02-data.csv', dtype = 'str', delimiter = ',')"
   ]
  },
  {
   "cell_type": "code",
   "execution_count": 9,
   "metadata": {},
   "outputs": [
    {
     "data": {
      "text/plain": [
       "array([['\"day\"', '\"ammount\"'],\n",
       "       ['2013-01-24', '323'],\n",
       "       ['2013-01-25', '233'],\n",
       "       ['2013-01-26', '433'],\n",
       "       ['2013-01-27', '555'],\n",
       "       ['2013-01-28', '123'],\n",
       "       ['2013-01-29', '0'],\n",
       "       ['2013-01-30', '221']], dtype='<U10')"
      ]
     },
     "execution_count": 9,
     "metadata": {},
     "output_type": "execute_result"
    }
   ],
   "source": [
    "data"
   ]
  },
  {
   "cell_type": "code",
   "execution_count": 10,
   "metadata": {},
   "outputs": [],
   "source": [
    "import xlrd\n",
    "from datetime import datetime\n",
    "from xlrd import open_workbook, xldate_as_tuple"
   ]
  },
  {
   "cell_type": "code",
   "execution_count": 11,
   "metadata": {},
   "outputs": [],
   "source": [
    "file = r'./data/ch02-xlsxdata.xlsx'"
   ]
  },
  {
   "cell_type": "code",
   "execution_count": 12,
   "metadata": {
    "scrolled": true
   },
   "outputs": [],
   "source": [
    "# return xlrd.book.Book instance\n",
    "wb = xlrd.open_workbook(filename=file)"
   ]
  },
  {
   "cell_type": "code",
   "execution_count": 13,
   "metadata": {},
   "outputs": [],
   "source": [
    "# return xlrd.sheet.Sheet instance\n",
    "# print(wb.sheets()) # return a list of all sheets\n",
    "ws = wb.sheet_by_name('Sheet1')"
   ]
  },
  {
   "cell_type": "code",
   "execution_count": 14,
   "metadata": {},
   "outputs": [],
   "source": [
    "dataset = []"
   ]
  },
  {
   "cell_type": "code",
   "execution_count": 15,
   "metadata": {},
   "outputs": [],
   "source": [
    "for r in range(ws.nrows):\n",
    "    col = []\n",
    "    for c in range(ws.ncols):\n",
    "        col.append(ws.cell(r, c).value)\n",
    "    dataset.append(col)"
   ]
  },
  {
   "cell_type": "code",
   "execution_count": 16,
   "metadata": {},
   "outputs": [],
   "source": [
    "from pprint import pprint"
   ]
  },
  {
   "cell_type": "code",
   "execution_count": 17,
   "metadata": {},
   "outputs": [
    {
     "name": "stdout",
     "output_type": "stream",
     "text": [
      "[[28.0,\n",
      "  65.0,\n",
      "  '0.833730025131149-0.988897705762865i',\n",
      "  '3.85373803791938-27.0168132580039i',\n",
      "  120.0,\n",
      "  0.23,\n",
      "  72.0,\n",
      "  9.0,\n",
      "  1.4,\n",
      "  1.25,\n",
      "  38.5946426417302,\n",
      "  3.141,\n",
      "  'CDXCIX',\n",
      "  1.22464679914735e-16,\n",
      "  1.77245385090552,\n",
      "  0.842700792949715],\n",
      " [4.0,\n",
      "  0.842700792949715,\n",
      "  '5+12i',\n",
      "  '1.09868411346781+0.455089860562227i',\n",
      "  1.0,\n",
      "  1.0,\n",
      "  3402.0,\n",
      "  -9.0,\n",
      "  2.0,\n",
      "  380.886574248364,\n",
      "  77.0,\n",
      "  -3.1,\n",
      "  'LDVLIV',\n",
      "  1.0,\n",
      "  2.506628274631,\n",
      "  0.0],\n",
      " [97.0,\n",
      "  0.157299207050285,\n",
      "  '1.46869393991589+2.28735528717884i',\n",
      "  '8+i',\n",
      "  1.0,\n",
      "  12.0,\n",
      "  1.0,\n",
      "  1260.0,\n",
      "  4.0,\n",
      "  761.773148496729,\n",
      "  0.0,\n",
      "  31400.0,\n",
      "  'XDIX',\n",
      "  0.5,\n",
      "  5.0,\n",
      "  101.981666428475],\n",
      " [0.981666428475166,\n",
      "  1.0,\n",
      "  '0.346573590279973+0.785398163397448i',\n",
      "  '8+i',\n",
      "  1.0,\n",
      "  1.0,\n",
      "  -3.0,\n",
      "  3.0,\n",
      "  2.0,\n",
      "  380.886574248364,\n",
      "  2.2,\n",
      "  4.0,\n",
      "  'VDIV',\n",
      "  0.5,\n",
      "  21.0,\n",
      "  43728.0],\n",
      " [0.277387803632259,\n",
      "  1.0,\n",
      "  '0.150514997831991+0.34109408846046i',\n",
      "  0.24,\n",
      "  48.0,\n",
      "  5.0,\n",
      "  -0.333333333333333,\n",
      "  3.0,\n",
      "  -2.0,\n",
      "  2.0,\n",
      "  2.1,\n",
      "  77.0,\n",
      "  'ID',\n",
      "  1.1752011936438,\n",
      "  101.981666428475,\n",
      "  ''],\n",
      " [23.0,\n",
      "  13.0,\n",
      "  '0.5+1.1330900354568i',\n",
      "  28.0,\n",
      "  105.0,\n",
      "  8.0,\n",
      "  2.0,\n",
      "  3.0,\n",
      "  3.14159265358979,\n",
      "  1.0,\n",
      "  -1.48,\n",
      "  3.142,\n",
      "  'MMXIII',\n",
      "  -1.1752011936438,\n",
      "  116.981666428475,\n",
      "  ''],\n",
      " ['10111',\n",
      "  -1.0,\n",
      "  '-46+9.00000000000001i',\n",
      "  65.0,\n",
      "  -2.0,\n",
      "  -9.0,\n",
      "  18.0,\n",
      "  -1.0,\n",
      "  25.0,\n",
      "  -3.0,\n",
      "  20.0,\n",
      "  -3.2,\n",
      "  1.0,\n",
      "  0.101049063118287,\n",
      "  25.2773878036323,\n",
      "  ''],\n",
      " ['1+i',\n",
      "  0.927295218001612,\n",
      "  '30+60i',\n",
      "  -2.0,\n",
      "  2.0,\n",
      "  0.0,\n",
      "  10.0,\n",
      "  -3.0,\n",
      "  2401077.22206958,\n",
      "  4.71238898038469,\n",
      "  3.0,\n",
      "  31500.0,\n",
      "  0.0,\n",
      "  4.0,\n",
      "  1.0,\n",
      "  ''],\n",
      " [65.0,\n",
      "  '3-4i',\n",
      "  6.0,\n",
      "  7.38905609893065,\n",
      "  1.5,\n",
      "  10.0,\n",
      "  1.0,\n",
      "  -9.0,\n",
      "  5.65685424949238,\n",
      "  0.0896229321911914,\n",
      "  76.0,\n",
      "  1593.0,\n",
      "  -1.0,\n",
      "  2.0,\n",
      "  101.0,\n",
      "  '']]\n"
     ]
    }
   ],
   "source": [
    "pprint(dataset)"
   ]
  },
  {
   "cell_type": "code",
   "execution_count": 18,
   "metadata": {},
   "outputs": [
    {
     "name": "stdout",
     "output_type": "stream",
     "text": [
      "xldate:43728.0\n"
     ]
    }
   ],
   "source": [
    "cell = ws.cell(3,15)\n",
    "print(cell)"
   ]
  },
  {
   "cell_type": "code",
   "execution_count": 19,
   "metadata": {},
   "outputs": [
    {
     "name": "stdout",
     "output_type": "stream",
     "text": [
      "43728.0\n",
      "3\n"
     ]
    }
   ],
   "source": [
    "print(cell.value)\n",
    "print(cell.ctype)"
   ]
  },
  {
   "cell_type": "code",
   "execution_count": 20,
   "metadata": {},
   "outputs": [
    {
     "name": "stdout",
     "output_type": "stream",
     "text": [
      "2019-09-20 00:00:00\n"
     ]
    }
   ],
   "source": [
    "if cell.ctype == xlrd.XL_CELL_DATE:\n",
    "    date_value = xldate_as_tuple(cell.value, wb.datemode)\n",
    "    print(datetime(*date_value))"
   ]
  },
  {
   "cell_type": "code",
   "execution_count": 36,
   "metadata": {},
   "outputs": [],
   "source": [
    "import struct\n",
    "import string"
   ]
  },
  {
   "cell_type": "code",
   "execution_count": 37,
   "metadata": {},
   "outputs": [],
   "source": [
    "datafile = r'./data/ch02-fixed-width-1M.data'"
   ]
  },
  {
   "cell_type": "code",
   "execution_count": 38,
   "metadata": {},
   "outputs": [
    {
     "name": "stdout",
     "output_type": "stream",
     "text": [
      "29\n"
     ]
    }
   ],
   "source": [
    "# c defines the character or a string of length 1\n",
    "# s defines a string\n",
    "# d defines a float\n",
    "# a string with 9 characters, followed by a string width of 15 characters\n",
    "# further followed by a string of 5 characters\n",
    "mask = '9s15s5s'\n",
    "print(struct.calcsize(mask))"
   ]
  },
  {
   "cell_type": "code",
   "execution_count": 39,
   "metadata": {
    "scrolled": false
   },
   "outputs": [
    {
     "ename": "error",
     "evalue": "unpack_from requires a buffer of at least 29 bytes",
     "output_type": "error",
     "traceback": [
      "\u001b[0;31m---------------------------------------------------------------------------\u001b[0m",
      "\u001b[0;31merror\u001b[0m                                     Traceback (most recent call last)",
      "\u001b[0;32m<ipython-input-39-ec19a427cca5>\u001b[0m in \u001b[0;36m<module>\u001b[0;34m\u001b[0m\n\u001b[1;32m      3\u001b[0m     \u001b[0;32mfor\u001b[0m \u001b[0mline\u001b[0m \u001b[0;32min\u001b[0m \u001b[0mf\u001b[0m\u001b[0;34m:\u001b[0m\u001b[0;34m\u001b[0m\u001b[0;34m\u001b[0m\u001b[0m\n\u001b[1;32m      4\u001b[0m \u001b[0;31m#         print(len(line))\u001b[0m\u001b[0;34m\u001b[0m\u001b[0;34m\u001b[0m\u001b[0;34m\u001b[0m\u001b[0m\n\u001b[0;32m----> 5\u001b[0;31m         \u001b[0mfields\u001b[0m \u001b[0;34m=\u001b[0m \u001b[0mstruct\u001b[0m\u001b[0;34m.\u001b[0m\u001b[0mStruct\u001b[0m\u001b[0;34m(\u001b[0m\u001b[0mmask\u001b[0m\u001b[0;34m)\u001b[0m\u001b[0;34m.\u001b[0m\u001b[0munpack_from\u001b[0m\u001b[0;34m(\u001b[0m\u001b[0mline\u001b[0m\u001b[0;34m)\u001b[0m\u001b[0;34m\u001b[0m\u001b[0;34m\u001b[0m\u001b[0m\n\u001b[0m\u001b[1;32m      6\u001b[0m \u001b[0;31m#         print(\"fields: \", [field.strip() for field in fields])\u001b[0m\u001b[0;34m\u001b[0m\u001b[0;34m\u001b[0m\u001b[0;34m\u001b[0m\u001b[0m\n",
      "\u001b[0;31merror\u001b[0m: unpack_from requires a buffer of at least 29 bytes"
     ]
    }
   ],
   "source": [
    "# all data read from the file is returned as bytes objects\n",
    "with open(datafile, 'rb') as f:\n",
    "    for line in f:\n",
    "#         print(len(line))\n",
    "        fields = struct.Struct(mask).unpack_from(line) # issue here\n",
    "#         print(\"fields: \", [field.strip() for field in fields])"
   ]
  },
  {
   "cell_type": "code",
   "execution_count": null,
   "metadata": {},
   "outputs": [],
   "source": []
  }
 ],
 "metadata": {
  "kernelspec": {
   "display_name": "Python 3",
   "language": "python",
   "name": "python3"
  },
  "language_info": {
   "codemirror_mode": {
    "name": "ipython",
    "version": 3
   },
   "file_extension": ".py",
   "mimetype": "text/x-python",
   "name": "python",
   "nbconvert_exporter": "python",
   "pygments_lexer": "ipython3",
   "version": "3.7.3"
  }
 },
 "nbformat": 4,
 "nbformat_minor": 2
}
